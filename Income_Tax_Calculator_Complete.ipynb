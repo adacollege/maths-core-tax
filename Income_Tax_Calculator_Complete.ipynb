{
 "cells": [
  {
   "cell_type": "markdown",
   "metadata": {
    "id": "OlGMi4STdAt9"
   },
   "source": [
    "The goal of this exercise is to code your own tax calculator in Python which works out net income from gross income. To do this you will write several different functions - an initial function decomposition has already been written for you, but you may wish to decompose further or extend functionality with more functions (see the last cell for suggestions)."
   ]
  },
  {
   "cell_type": "code",
   "execution_count": null,
   "metadata": {
    "id": "Reth7-3nhOWE"
   },
   "outputs": [],
   "source": [
    "std_pa = 12509\r\n",
    "def calculate_bracketed_tax (amount, brackets, rates):\r\n",
    "  tax_total=0\r\n",
    "  for bracket_l, bracket_u, rate in zip(brackets, brackets[1:], rates):\r\n",
    "    tax_total += rate*max(0,min(bracket_u-bracket_l,amount-bracket_l))\r\n",
    "  tax_total += max(0,amount-brackets[len(brackets)-1])*rates[len(rates)-1]\r\n",
    "  return tax_total"
   ]
  },
  {
   "cell_type": "code",
   "execution_count": null,
   "metadata": {
    "id": "5hYcyfbBk4es"
   },
   "outputs": [],
   "source": [
    "def calculate_pa(gross, init_pa = std_pa):\r\n",
    "  return init_pa - 0.5*max(0,min(2*init_pa,gross-100000))"
   ]
  },
  {
   "cell_type": "code",
   "execution_count": null,
   "metadata": {
    "id": "Rn8wHyDcbzzI"
   },
   "outputs": [],
   "source": [
    "def income_tax(gross, init_pa=std_pa):\r\n",
    "  pa = calculate_pa(gross, init_pa)\r\n",
    "  return calculate_bracketed_tax(gross,[pa,pa+37500,pa+150000],[0.2,0.4,0.45])"
   ]
  },
  {
   "cell_type": "code",
   "execution_count": null,
   "metadata": {
    "colab": {
     "base_uri": "https://localhost:8080/"
    },
    "id": "-uolOV_KcAV-",
    "outputId": "2e603498-1131-4a95-bc62-0715abcd8acd"
   },
   "outputs": [
    {
     "data": {
      "text/plain": [
       "7498.200000000001"
      ]
     },
     "execution_count": 14,
     "metadata": {
      "tags": []
     },
     "output_type": "execute_result"
    }
   ],
   "source": [
    "income_tax(50000)"
   ]
  },
  {
   "cell_type": "code",
   "execution_count": null,
   "metadata": {
    "id": "3zuJC29zcCkk"
   },
   "outputs": [],
   "source": [
    "def national_insurance(gross):\r\n",
    "  return calculate_bracketed_tax(gross,[9500,50000],[0.12,0.02])"
   ]
  },
  {
   "cell_type": "code",
   "execution_count": null,
   "metadata": {
    "colab": {
     "base_uri": "https://localhost:8080/"
    },
    "id": "fwgp5Pt5cp0c",
    "outputId": "bd7f946d-6357-49cd-e9b2-8b854a5064c3"
   },
   "outputs": [
    {
     "data": {
      "text/plain": [
       "4860.0"
      ]
     },
     "execution_count": 16,
     "metadata": {
      "tags": []
     },
     "output_type": "execute_result"
    }
   ],
   "source": [
    "national_insurance(50000)"
   ]
  },
  {
   "cell_type": "code",
   "execution_count": null,
   "metadata": {
    "id": "QKwgxeQtcwar"
   },
   "outputs": [],
   "source": [
    "def pay_after_tax(gross, init_pa=std_pa):\r\n",
    "  return gross-income_tax(gross, init_pa)-national_insurance(gross)"
   ]
  },
  {
   "cell_type": "code",
   "execution_count": null,
   "metadata": {
    "colab": {
     "base_uri": "https://localhost:8080/"
    },
    "id": "tDKRru6Kc3z3",
    "outputId": "53bbef16-85da-40ca-b601-51f52958c34b"
   },
   "outputs": [
    {
     "data": {
      "text/plain": [
       "117140.0"
      ]
     },
     "execution_count": 18,
     "metadata": {
      "tags": []
     },
     "output_type": "execute_result"
    }
   ],
   "source": [
    "pay_after_tax(200000)"
   ]
  },
  {
   "cell_type": "markdown",
   "metadata": {
    "id": "zcG7i559c-Md"
   },
   "source": [
    "This basic functionality is going to calculate most people's take-home-pay well for most people, but there are is some extra functionality you might want to add to your code to a) make it work for more unusual cases and b) make it more efficient and extensible (useful for what we will do later).\r\n",
    "\r\n",
    "*   Some people have different initial personal allowances for a variety of reasons, and the standard amount usually changes each new tac year. Make personal allowance an optional parameter for the income tax function\r\n",
    "\r\n",
    "*   Your personal allowance decreases when you [earn over £100,000](https://www.gov.uk/income-tax-rates/income-over-100000). Write a separate function to calculate a revised personal allowance for amounts over £100,000 and call this appropriately in your income tax function.\r\n",
    "\r\n",
    "*   There's an \"Additional rate\" of 45% for income over £150,000. Add this to your function.\r\n",
    "\r\n",
    "*   Both income tax and national insurance work in a similar way - fixed rates are charged on income between different values. Try to refactor your code by introducing a helper function which takes a gross pay, then either 2 lists or a list of tuples to represent income brackets and rates charged on those brackets. The function should return the tax payable at those rates and brackets.\r\n",
    "\r\n",
    "*   Challenging - write a reverse function which calculates the amount of gross pay you would need to earn to receive a specified net take-home-pay\r\n",
    "\r\n",
    "Have a look at https://www.gov.uk/income-tax-rates to see if there's any more functionality that would be useful for the calculator you'd like to add.\r\n"
   ]
  }
 ],
 "metadata": {
  "colab": {
   "collapsed_sections": [],
   "name": "Income Tax Calculator Complete.ipynb",
   "provenance": []
  },
  "kernelspec": {
   "display_name": "Python 3",
   "name": "python3"
  }
 },
 "nbformat": 4,
 "nbformat_minor": 0
}
