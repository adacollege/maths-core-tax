{
 "cells": [
  {
   "cell_type": "markdown",
   "metadata": {
    "id": "OlGMi4STdAt9"
   },
   "source": [
    "The goal of this exercise is to code your own tax calculator in Python which works out net income from gross income. To do this you will write several different functions - an initial function decomposition has already been written for you, but you may wish to decompose further or extend functionality with more functions (see the last cell for suggestions)."
   ]
  },
  {
   "cell_type": "code",
   "execution_count": null,
   "metadata": {
    "id": "Rn8wHyDcbzzI"
   },
   "outputs": [],
   "source": [
    "#function to return the tax annual payable on a gross salary\r\n",
    "\r\n",
    "#define function and parameters\r\n",
    "#calculate amount tax is payable on\r\n",
    "#calculate tax payable at basic rate\r\n",
    "#calculate tax payable at higher rate\r\n",
    "#return total income tax paid"
   ]
  },
  {
   "cell_type": "code",
   "execution_count": null,
   "metadata": {
    "id": "-uolOV_KcAV-"
   },
   "outputs": [],
   "source": [
    "#test this function"
   ]
  },
  {
   "cell_type": "code",
   "execution_count": null,
   "metadata": {
    "id": "3zuJC29zcCkk"
   },
   "outputs": [],
   "source": [
    "#function to calculate National Insurance"
   ]
  },
  {
   "cell_type": "code",
   "execution_count": null,
   "metadata": {
    "id": "fwgp5Pt5cp0c"
   },
   "outputs": [],
   "source": [
    "#test this function"
   ]
  },
  {
   "cell_type": "code",
   "execution_count": null,
   "metadata": {
    "id": "QKwgxeQtcwar"
   },
   "outputs": [],
   "source": [
    "#function to calculate net pay from gross pay"
   ]
  },
  {
   "cell_type": "code",
   "execution_count": null,
   "metadata": {
    "id": "tDKRru6Kc3z3"
   },
   "outputs": [],
   "source": [
    "#test this function"
   ]
  },
  {
   "cell_type": "markdown",
   "metadata": {
    "id": "zcG7i559c-Md"
   },
   "source": [
    "This basic functionality is going to calculate most people's take-home-pay well for most people, but there are is some extra functionality you might want to add to your code to a) make it work for more unusual cases and b) make it more efficient and extensible (useful for what we will do later).\r\n",
    "\r\n",
    "*   Some people have different initial personal allowances for a variety of reasons, and the standard amount usually changes each new tac year. Make personal allowance an optional parameter for the income tax function\r\n",
    "\r\n",
    "*   Your personal allowance decreases when you [earn over £100,000](https://www.gov.uk/income-tax-rates/income-over-100000). Write a separate function to calculate a revised personal allowance for amounts over £100,000 and call this appropriately in your income tax function.\r\n",
    "\r\n",
    "*   There's an \"Additional rate\" of 45% for income over £150,000. Add this to your function.\r\n",
    "\r\n",
    "*   Both income tax and national insurance work in a similar way - fixed rates are charged on income between different values. Try to refactor your code by introducing a helper function which takes a gross pay, then either 2 lists or a list of tuples to represent income brackets and rates charged on those brackets. The function should return the tax payable at those rates and brackets.\r\n",
    "\r\n",
    "*   Challenging - write a reverse function which calculates the amount of gross pay you would need to earn to receive a specified net take-home-pay\r\n",
    "\r\n",
    "Have a look at https://www.gov.uk/income-tax-rates to see if there's any more functionality that would be useful for the calculator you'd like to add.\r\n"
   ]
  }
 ],
 "metadata": {
  "colab": {
   "collapsed_sections": [],
   "name": "Income Tax Calculator.ipynb",
   "provenance": []
  },
  "kernelspec": {
   "display_name": "Python 3",
   "name": "python3"
  }
 },
 "nbformat": 4,
 "nbformat_minor": 0
}
