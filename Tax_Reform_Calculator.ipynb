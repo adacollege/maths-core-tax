{
 "cells": [
  {
   "cell_type": "markdown",
   "metadata": {
    "id": "OlGMi4STdAt9"
   },
   "source": [
    "The goal of this exercise is to look at the effect of tax changes on different segments of the population and the aggregate effect. Please see the [video](https://www.loom.com/share/1b0cc6479ab54277b879f849a836ea20) for more details."
   ]
  },
  {
   "cell_type": "code",
   "execution_count": null,
   "metadata": {
    "id": "Reth7-3nhOWE"
   },
   "outputs": [],
   "source": [
    "# Copy of tax-calculator functions\r\n",
    "std_pa = 12509\r\n",
    "\r\n",
    "def calculate_bracketed_tax (amount, brackets, rates):\r\n",
    "  tax_total=0\r\n",
    "  for bracket_l, bracket_u, rate in zip(brackets, brackets[1:], rates):\r\n",
    "    tax_total += rate*max(0,min(bracket_u-bracket_l,amount-bracket_l))\r\n",
    "  tax_total += max(0,amount-brackets[len(brackets)-1])*rates[len(rates)-1]\r\n",
    "  return tax_total\r\n",
    "\r\n",
    "def calculate_pa(gross, init_pa = std_pa):\r\n",
    "  return init_pa - 0.5*max(0,min(2*init_pa,gross-100000))\r\n",
    "\r\n",
    "def income_tax(gross, init_pa=std_pa):\r\n",
    "  pa = calculate_pa(gross, init_pa)\r\n",
    "  return calculate_bracketed_tax(gross,[pa,pa+37500,pa+150000],[0.2,0.4,0.45])\r\n",
    "\r\n",
    "def national_insurance(gross):\r\n",
    "  return calculate_bracketed_tax(gross,[9500,50000],[0.12,0.02])\r\n",
    "\r\n",
    "def pay_after_tax(gross, init_pa=std_pa):\r\n",
    "  return gross-income_tax(gross, init_pa)-national_insurance(gross)"
   ]
  },
  {
   "cell_type": "code",
   "execution_count": null,
   "metadata": {
    "colab": {
     "base_uri": "https://localhost:8080/"
    },
    "id": "3zuJC29zcCkk",
    "outputId": "a8cd07cc-7d2f-4e43-b104-797420e439d6"
   },
   "outputs": [
    {
     "data": {
      "text/plain": [
       "percentile\n",
       "1      11700\n",
       "2      12000\n",
       "3      12300\n",
       "4      12500\n",
       "5      12800\n",
       "       ...  \n",
       "95     76800\n",
       "96     86000\n",
       "97     98600\n",
       "98    121000\n",
       "99    175000\n",
       "Name: 2017-18, Length: 99, dtype: int64"
      ]
     },
     "execution_count": 41,
     "metadata": {
      "tags": []
     },
     "output_type": "execute_result"
    }
   ],
   "source": [
    "import pandas as pd\r\n",
    "full_data = pd.read_csv(\"income_by_percentile.csv\", index_col='percentile', thousands=',')\r\n",
    "gross_incomes_1718=full_data['2017-18']\r\n",
    "gross_incomes_1718"
   ]
  },
  {
   "cell_type": "code",
   "execution_count": null,
   "metadata": {
    "colab": {
     "base_uri": "https://localhost:8080/"
    },
    "id": "Yi_IVDYEDRtr",
    "outputId": "d065811f-1eb0-4c68-b254-f6c4f36862b9"
   },
   "outputs": [
    {
     "data": {
      "text/plain": [
       "(11700, 11436.0)"
      ]
     },
     "execution_count": 45,
     "metadata": {
      "tags": []
     },
     "output_type": "execute_result"
    }
   ],
   "source": [
    "lowest = gross_incomes_1718.loc[1]\r\n",
    "lowest_after_tax = pay_after_tax(lowest)\r\n",
    "lowest, lowest_after_tax"
   ]
  },
  {
   "cell_type": "code",
   "execution_count": null,
   "metadata": {
    "colab": {
     "base_uri": "https://localhost:8080/"
    },
    "id": "hwe1U7guDrL7",
    "outputId": "71da1de5-2df2-49ab-941a-3852927fe62b"
   },
   "outputs": [
    {
     "data": {
      "text/plain": [
       "before tax    24400.0\n",
       "after tax     20233.8\n",
       "Name: 50, dtype: float64"
      ]
     },
     "execution_count": 54,
     "metadata": {
      "tags": []
     },
     "output_type": "execute_result"
    }
   ],
   "source": [
    "after_tax_1718=gross_incomes_1718.apply(pay_after_tax)\r\n",
    "tax_table=pd.concat([gross_incomes_1718.rename('before tax'), after_tax_1718.rename('after tax')], axis=1)\r\n",
    "tax_table.loc[50]"
   ]
  },
  {
   "cell_type": "code",
   "execution_count": null,
   "metadata": {
    "colab": {
     "base_uri": "https://localhost:8080/"
    },
    "id": "Z5Ey0dstEsDM",
    "outputId": "ec08a4ff-7ba8-46a6-b83b-245e143479e7"
   },
   "outputs": [
    {
     "data": {
      "text/plain": [
       "219711040000.00003"
      ]
     },
     "execution_count": 59,
     "metadata": {
      "tags": []
     },
     "output_type": "execute_result"
    }
   ],
   "source": [
    "tax_paid = gross_incomes_1718-after_tax_1718\r\n",
    "tax_paid.sum()*32000000/100"
   ]
  },
  {
   "cell_type": "code",
   "execution_count": null,
   "metadata": {
    "id": "5QBxHQ0jFiOm"
   },
   "outputs": [],
   "source": [
    "def new_tax(gross):\r\n",
    "  return"
   ]
  }
 ],
 "metadata": {
  "colab": {
   "collapsed_sections": [],
   "name": "Tax Reform Calculator.ipynb",
   "provenance": []
  },
  "kernelspec": {
   "display_name": "Python 3",
   "name": "python3"
  }
 },
 "nbformat": 4,
 "nbformat_minor": 0
}
